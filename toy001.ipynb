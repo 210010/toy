{
 "cells": [
  {
   "cell_type": "code",
   "execution_count": 23,
   "metadata": {},
   "outputs": [
    {
     "name": "stdout",
     "output_type": "stream",
     "text": [
      "Requirement already satisfied: opencv-python in /usr/local/anaconda3/envs/transformer/lib/python3.6/site-packages (4.2.0.34)\n",
      "Requirement already satisfied: numpy>=1.11.3 in /usr/local/anaconda3/envs/transformer/lib/python3.6/site-packages (from opencv-python) (1.18.4)\n",
      "Requirement already satisfied: lucid in /usr/local/anaconda3/envs/transformer/lib/python3.6/site-packages (0.3.8)\n",
      "Requirement already satisfied: numpy in /usr/local/anaconda3/envs/transformer/lib/python3.6/site-packages (from lucid) (1.18.4)\n",
      "Requirement already satisfied: umap-learn in /usr/local/anaconda3/envs/transformer/lib/python3.6/site-packages (from lucid) (0.4.3)\n",
      "Requirement already satisfied: decorator in /usr/local/anaconda3/envs/transformer/lib/python3.6/site-packages (from lucid) (4.4.2)\n",
      "Requirement already satisfied: scikit-learn in /usr/local/anaconda3/envs/transformer/lib/python3.6/site-packages (from lucid) (0.23.1)\n",
      "Requirement already satisfied: filelock in /usr/local/anaconda3/envs/transformer/lib/python3.6/site-packages (from lucid) (3.0.12)\n",
      "Requirement already satisfied: pyopengl in /usr/local/anaconda3/envs/transformer/lib/python3.6/site-packages (from lucid) (3.1.5)\n",
      "Requirement already satisfied: more-itertools in /usr/local/anaconda3/envs/transformer/lib/python3.6/site-packages (from lucid) (8.3.0)\n",
      "Requirement already satisfied: pillow in /usr/local/anaconda3/envs/transformer/lib/python3.6/site-packages (from lucid) (7.1.2)\n",
      "Requirement already satisfied: click in /usr/local/anaconda3/envs/transformer/lib/python3.6/site-packages (from lucid) (7.1.2)\n",
      "Requirement already satisfied: cachetools in /usr/local/anaconda3/envs/transformer/lib/python3.6/site-packages (from lucid) (4.1.0)\n",
      "Requirement already satisfied: scipy in /usr/local/anaconda3/envs/transformer/lib/python3.6/site-packages (from lucid) (1.4.1)\n",
      "Requirement already satisfied: future in /usr/local/anaconda3/envs/transformer/lib/python3.6/site-packages (from lucid) (0.18.2)\n",
      "Requirement already satisfied: ipython in /usr/local/anaconda3/envs/transformer/lib/python3.6/site-packages (from lucid) (7.14.0)\n",
      "Requirement already satisfied: tbb in /usr/local/anaconda3/envs/transformer/lib/python3.6/site-packages (from umap-learn->lucid) (2019.0)\n",
      "Requirement already satisfied: numba!=0.47,>=0.46 in /usr/local/anaconda3/envs/transformer/lib/python3.6/site-packages (from umap-learn->lucid) (0.49.1)\n",
      "Requirement already satisfied: joblib>=0.11 in /usr/local/anaconda3/envs/transformer/lib/python3.6/site-packages (from scikit-learn->lucid) (0.15.1)\n",
      "Requirement already satisfied: threadpoolctl>=2.0.0 in /usr/local/anaconda3/envs/transformer/lib/python3.6/site-packages (from scikit-learn->lucid) (2.0.0)\n",
      "Requirement already satisfied: setuptools>=18.5 in /usr/local/anaconda3/envs/transformer/lib/python3.6/site-packages (from ipython->lucid) (46.0.0.post20200309)\n",
      "Requirement already satisfied: jedi>=0.10 in /usr/local/anaconda3/envs/transformer/lib/python3.6/site-packages (from ipython->lucid) (0.17.0)\n",
      "Requirement already satisfied: traitlets>=4.2 in /usr/local/anaconda3/envs/transformer/lib/python3.6/site-packages (from ipython->lucid) (4.3.3)\n",
      "Requirement already satisfied: pexpect; sys_platform != \"win32\" in /usr/local/anaconda3/envs/transformer/lib/python3.6/site-packages (from ipython->lucid) (4.8.0)\n",
      "Requirement already satisfied: prompt-toolkit!=3.0.0,!=3.0.1,<3.1.0,>=2.0.0 in /usr/local/anaconda3/envs/transformer/lib/python3.6/site-packages (from ipython->lucid) (3.0.5)\n",
      "Requirement already satisfied: pickleshare in /usr/local/anaconda3/envs/transformer/lib/python3.6/site-packages (from ipython->lucid) (0.7.5)\n",
      "Requirement already satisfied: pygments in /usr/local/anaconda3/envs/transformer/lib/python3.6/site-packages (from ipython->lucid) (2.6.1)\n",
      "Requirement already satisfied: backcall in /usr/local/anaconda3/envs/transformer/lib/python3.6/site-packages (from ipython->lucid) (0.1.0)\n",
      "Requirement already satisfied: appnope; sys_platform == \"darwin\" in /usr/local/anaconda3/envs/transformer/lib/python3.6/site-packages (from ipython->lucid) (0.1.0)\n",
      "Requirement already satisfied: llvmlite<=0.33.0.dev0,>=0.31.0.dev0 in /usr/local/anaconda3/envs/transformer/lib/python3.6/site-packages (from numba!=0.47,>=0.46->umap-learn->lucid) (0.32.1)\n",
      "Requirement already satisfied: parso>=0.7.0 in /usr/local/anaconda3/envs/transformer/lib/python3.6/site-packages (from jedi>=0.10->ipython->lucid) (0.7.0)\n",
      "Requirement already satisfied: ipython-genutils in /usr/local/anaconda3/envs/transformer/lib/python3.6/site-packages (from traitlets>=4.2->ipython->lucid) (0.2.0)\n",
      "Requirement already satisfied: six in /usr/local/anaconda3/envs/transformer/lib/python3.6/site-packages (from traitlets>=4.2->ipython->lucid) (1.14.0)\n",
      "Requirement already satisfied: ptyprocess>=0.5 in /usr/local/anaconda3/envs/transformer/lib/python3.6/site-packages (from pexpect; sys_platform != \"win32\"->ipython->lucid) (0.6.0)\n",
      "Requirement already satisfied: wcwidth in /usr/local/anaconda3/envs/transformer/lib/python3.6/site-packages (from prompt-toolkit!=3.0.0,!=3.0.1,<3.1.0,>=2.0.0->ipython->lucid) (0.1.9)\n",
      "Requirement already satisfied: moviepy in /usr/local/anaconda3/envs/transformer/lib/python3.6/site-packages (1.0.3)\n",
      "Requirement already satisfied: decorator<5.0,>=4.0.2 in /usr/local/anaconda3/envs/transformer/lib/python3.6/site-packages (from moviepy) (4.4.2)\n",
      "Requirement already satisfied: imageio-ffmpeg>=0.2.0; python_version >= \"3.4\" in /usr/local/anaconda3/envs/transformer/lib/python3.6/site-packages (from moviepy) (0.4.2)\n",
      "Requirement already satisfied: imageio<3.0,>=2.5; python_version >= \"3.4\" in /usr/local/anaconda3/envs/transformer/lib/python3.6/site-packages (from moviepy) (2.8.0)\n",
      "Requirement already satisfied: tqdm<5.0,>=4.11.2 in /usr/local/anaconda3/envs/transformer/lib/python3.6/site-packages (from moviepy) (4.46.0)\n",
      "Requirement already satisfied: numpy; python_version >= \"2.7\" in /usr/local/anaconda3/envs/transformer/lib/python3.6/site-packages (from moviepy) (1.18.4)\n",
      "Requirement already satisfied: requests<3.0,>=2.8.1 in /usr/local/anaconda3/envs/transformer/lib/python3.6/site-packages (from moviepy) (2.23.0)\n",
      "Requirement already satisfied: proglog<=1.0.0 in /usr/local/anaconda3/envs/transformer/lib/python3.6/site-packages (from moviepy) (0.1.9)\n",
      "Requirement already satisfied: pillow in /usr/local/anaconda3/envs/transformer/lib/python3.6/site-packages (from imageio<3.0,>=2.5; python_version >= \"3.4\"->moviepy) (7.1.2)\n",
      "Requirement already satisfied: idna<3,>=2.5 in /usr/local/anaconda3/envs/transformer/lib/python3.6/site-packages (from requests<3.0,>=2.8.1->moviepy) (2.9)\n",
      "Requirement already satisfied: urllib3!=1.25.0,!=1.25.1,<1.26,>=1.21.1 in /usr/local/anaconda3/envs/transformer/lib/python3.6/site-packages (from requests<3.0,>=2.8.1->moviepy) (1.25.9)\n",
      "Requirement already satisfied: certifi>=2017.4.17 in /usr/local/anaconda3/envs/transformer/lib/python3.6/site-packages (from requests<3.0,>=2.8.1->moviepy) (2020.4.5.1)\n",
      "Requirement already satisfied: chardet<4,>=3.0.2 in /usr/local/anaconda3/envs/transformer/lib/python3.6/site-packages (from requests<3.0,>=2.8.1->moviepy) (3.0.4)\n"
     ]
    }
   ],
   "source": [
    "!pip install opencv-python\n",
    "!pip install lucid\n",
    "!pip install moviepy"
   ]
  },
  {
   "cell_type": "code",
   "execution_count": 49,
   "metadata": {},
   "outputs": [],
   "source": [
    "import numpy as np\n",
    "import pylab as pl\n",
    "import PIL.Image, PIL.ImageDraw, PIL.ImageFont\n",
    "import cv2\n",
    "from IPython.display import clear_output\n",
    "from lucid.misc.io import showing as show\n",
    "import moviepy.editor as mvp\n",
    "from moviepy.video.io.ffmpeg_writer import FFMPEG_VideoWriter\n",
    "import tensorflow as tf\n",
    "tf.enable_eager_execution()"
   ]
  },
  {
   "cell_type": "code",
   "execution_count": 50,
   "metadata": {},
   "outputs": [],
   "source": [
    "def gen_points(s, font_size=42):\n",
    "  font = PIL.ImageFont.truetype(' /Library/Fonts/NanumSquareBold.ttf', font_size)\n",
    "  w, h = font.getsize(s)\n",
    "  im = PIL.Image.new('L', (w, h))\n",
    "  draw  = PIL.ImageDraw.Draw(im)\n",
    "  draw.text((0, 0), s, fill=255, font=font)\n",
    "  im = np.uint8(im)\n",
    "  y, x = np.float32(im.nonzero())\n",
    "  pos = np.column_stack([x, y])\n",
    "  if len(pos) > 0:\n",
    "    pos -= (w/2, h/2)\n",
    "    pos /= font_size\n",
    "  return pos"
   ]
  },
  {
   "cell_type": "code",
   "execution_count": 51,
   "metadata": {},
   "outputs": [],
   "source": [
    "@tf.function\n",
    "def pdist(x, y):\n",
    "  dx = x[:, None, :] - y[None, :, :]\n",
    "  return tf.reduce_sum(tf.square(dx), -1)\n",
    "\n",
    "@tf.function\n",
    "def Sinkhorn_step(C, f):\n",
    "  g = tf.reduce_logsumexp(-f-tf.transpose(C), -1)\n",
    "  f = tf.reduce_logsumexp(-g-C, -1)\n",
    "  return f, g\n",
    "\n",
    "def Sinkhorn(C, f=None, niter=1000):\n",
    "  n = tf.shape(C)[0]\n",
    "  if f is None:\n",
    "    f = tf.zeros(n, np.float32)\n",
    "  for i in range(niter):\n",
    "    f, g = Sinkhorn_step(C, f)\n",
    "  P = tf.exp(-f[:,None]-g[None,:]-C)/tf.cast(n, tf.float32)\n",
    "  return P, f, g"
   ]
  },
  {
   "cell_type": "code",
   "execution_count": 52,
   "metadata": {},
   "outputs": [],
   "source": [
    "VIDEO_SIZE = 512\n",
    "\n",
    "def draw_points(p):\n",
    "  w = VIDEO_SIZE\n",
    "  img = np.zeros((w, w, 3), np.uint8)\n",
    "  #img[:] = 255\n",
    "  p = np.int32((w/2+p*w*0.9)*4)\n",
    "  for x, y in p:\n",
    "    cv2.circle(img, (x, y), 12, (255, 255, 255), -1, cv2.CV_AA, shift=2)\n",
    "  return img\n",
    "\n",
    "t = np.linspace(0, 2*np.pi, 256)\n",
    "x = 16*np.sin(t)**3\n",
    "y = 13*np.cos(t)-5*np.cos(2*t)-2*np.cos(3*t)-np.cos(4*t)\n",
    "pos0 = np.float32(np.column_stack([x*0.03, -y*0.03]))\n",
    "\n",
    "show.image(draw_points(pos0)/255.0)"
   ]
  },
  {
   "cell_type": "code",
   "execution_count": null,
   "metadata": {},
   "outputs": [
    {
     "name": "stdout",
     "output_type": "stream",
     "text": [
      "생일축하해주신분들정말감"
     ]
    }
   ],
   "source": [
    "pos = pos0.copy()\n",
    "\n",
    "with FFMPEG_VideoWriter('out.mp4', (VIDEO_SIZE, VIDEO_SIZE), 60.0) as video:\n",
    "  video.write_frame(draw_points(pos))\n",
    "  f = None\n",
    "  for s in '생일축하해주신분들정말감사합니다!일영드림':\n",
    "    target = gen_points(s) if s != ' ' else pos0\n",
    "    for i in range(80):\n",
    "      C = pdist(pos, target)/(0.01)**2\n",
    "      P, f, g = Sinkhorn(C, f=f, niter=20)\n",
    "      P = P.numpy()\n",
    "      g = P.dot(target)*len(pos)-pos\n",
    "      pos += 0.1*g\n",
    "      frame = draw_points(pos)\n",
    "      video.write_frame(frame)\n",
    "    print(s, end='', flush=True)\n"
   ]
  },
  {
   "cell_type": "code",
   "execution_count": null,
   "metadata": {},
   "outputs": [],
   "source": [
    "mvp.ipython_display('out.mp4', loop=True)"
   ]
  },
  {
   "cell_type": "code",
   "execution_count": null,
   "metadata": {},
   "outputs": [],
   "source": []
  },
  {
   "cell_type": "code",
   "execution_count": null,
   "metadata": {},
   "outputs": [],
   "source": []
  }
 ],
 "metadata": {
  "kernelspec": {
   "display_name": "Python 3",
   "language": "python",
   "name": "python3"
  },
  "language_info": {
   "codemirror_mode": {
    "name": "ipython",
    "version": 3
   },
   "file_extension": ".py",
   "mimetype": "text/x-python",
   "name": "python",
   "nbconvert_exporter": "python",
   "pygments_lexer": "ipython3",
   "version": "3.6.9"
  }
 },
 "nbformat": 4,
 "nbformat_minor": 4
}
